{
  "nbformat": 4,
  "nbformat_minor": 0,
  "metadata": {
    "colab": {
      "provenance": []
    },
    "kernelspec": {
      "name": "python3",
      "display_name": "Python 3"
    },
    "language_info": {
      "name": "python"
    }
  },
  "cells": [
    {
      "cell_type": "markdown",
      "source": [
        "                        *ASSIGMENT* PYTHON BASIC\n",
        "\n",
        "\n",
        "\n",
        "\n",
        "\n"
      ],
      "metadata": {
        "id": "lr06lkYlmB_q"
      }
    },
    {
      "cell_type": "markdown",
      "source": [
        "1-What is Python, and why is it popular? answer :Python is a high level interperted programmimg language known dor its simplicity ,readablitiy and versatility popolar:1-easy to learn 2-versatile 3-large community 4-cross-pltform"
      ],
      "metadata": {
        "id": "qSN6ukTPmSi9"
      }
    },
    {
      "cell_type": "markdown",
      "source": [
        "2-What is an interpreter in Python? answer:In python interpreter is a program that reads and exectues python code line by line.It translates code into machine code that computer processor can understand mainlly it exectues code line by line which allows for more flexibility and easier debugging"
      ],
      "metadata": {
        "id": "3InvHxHNl1p0"
      }
    },
    {
      "cell_type": "markdown",
      "source": [
        "3- What are pre-defined keywords in Python? answer-Python has a set of reserved keywords that have a special meaning and cannot be used as variable names,function name some examples control flow-if,else,for,while defining function-def,class or and , not,true,false"
      ],
      "metadata": {
        "id": "9Ppn1njqkJLo"
      }
    },
    {
      "cell_type": "markdown",
      "source": [
        "4- Can keywords be used as variable names? answer- no,keywords is not used as vairable name it is reserved words"
      ],
      "metadata": {
        "id": "sRus39EekFzi"
      }
    },
    {
      "cell_type": "markdown",
      "source": [
        "5-What is mutability in Python? answer-Mutability is the property of an object that determines whether its value can be changed after it is created. If the object value can be changed in place, it is called mutable"
      ],
      "metadata": {
        "id": "R7U1uzrKisOp"
      }
    },
    {
      "cell_type": "markdown",
      "source": [
        "6- Why are lists mutable, but tuples are immutable? answer-Tuples are immutable because they are meant for fixed collections of data. Once a tuple is created, its contents cannot be changed. Python locks the memory for a tuple, so you cannot add, remove, or update elements.Lists are mutable because they are designed to hold data that can change. You can add, remove, or modify elements in a list. Lists are stored in memory as dynamic arrays, so their elements can be updated in place. ex-my_list = [1, 2, 3] my_list[0] = 100 print(my_list)\n",
        "ex-my_tuple = (1, 2, 3) my_tuple[0] = 100 # Error"
      ],
      "metadata": {
        "id": "J_fnSqlhioTk"
      }
    },
    {
      "cell_type": "markdown",
      "source": [
        "7-What is the difference between “==” and “is” operators in Python? answer- == → checks if values are equal is → checks if both variables point to the same object in memory ex-\"hello\" == \"hello\" → True\n",
        "ex-\"hello\" is \"hello\" → depends on memory, often True for small strings, but not guaranteed"
      ],
      "metadata": {
        "id": "fymVXZyKigV9"
      }
    },
    {
      "cell_type": "markdown",
      "source": [
        "8-What are logical operators in Python? answer-Logical operators are used to combine conditional statements and return a Boolean value True or False Python has three logical operators: and → Returns True if both conditions are true. or → Returns True if at least one condition is true. not → Reverses the result (True → False, False → True)."
      ],
      "metadata": {
        "id": "1mxYkr4gk8Tu"
      }
    },
    {
      "cell_type": "markdown",
      "source": [
        "9- What is type casting in Python? amswer-Type casting or type conversion in Python is the process of converting one data type into another a = 5 # int b = 2.5 # float c = a + b # int + float → float print(c) # 7.5 print(type(c)) # <clas'float'>"
      ],
      "metadata": {
        "id": "RxU-qrtWlGnJ"
      }
    },
    {
      "cell_type": "markdown",
      "source": [
        "10-What is the difference between implicit and explicit type casting? answer- Implicit casting: Python automatically converts data type. Explicit casting: Programmer manually converts data type using functions like int(), float(), str(), etc. Implicit Type Casting also called-type promotion explicit -also called Type conversion"
      ],
      "metadata": {
        "id": "DKGYXH9WlN1V"
      }
    },
    {
      "cell_type": "markdown",
      "source": [
        "11-What is the purpose of conditional statements in Python? answer-Conditional statements in Python are used to control the flow of execution based on certain conditions (True/False). They help in decision-making in programs.types of conditions statment-if, if-else, if-elif-else,nested if."
      ],
      "metadata": {
        "id": "03LCBMTAlUw3"
      }
    },
    {
      "cell_type": "markdown",
      "source": [
        "12-How does the elif statement work? answer-elif in Python allows checking multiple conditions sequentially; it runs the block of the first True condition, skipping the rest. If one condition is True, its block runs and the rest are skipped. If all conditions are False, the else block (if present) runs"
      ],
      "metadata": {
        "id": "fj1F4QegldvR"
      }
    },
    {
      "cell_type": "markdown",
      "source": [
        "13-What is the difference between for and while loops? answer-for loop → used when the number of iterations is known or fixed. Syntax Iterates over a sequence (list, tuple, string, range, etc.). example-for i in range(5): print(i) while loop → used when the number of iterations is unknown and depends on a condition. syntax- Repeats as long as the condition is True. ex-i = 0; while i < 5: print(i); i += 1"
      ],
      "metadata": {
        "id": "28GuPmQ0lpX4"
      }
    },
    {
      "cell_type": "markdown",
      "source": [
        "14-Describe a scenario where a while loop is more suitable than a for loop.? answer-for loop → Used when we know in advance how many times we need to run the loop (fixed/repeat over sequence). while loop → Used when we don’t know in advance how many times the loop should run (depends on condition). User input validation / ATM PIN check Suppose you want to keep asking the user to enter the correct PIN until they enter the right one. Here, you don’t know in advance how many attempts the user will take. That’s why a while loop is better than a for loop."
      ],
      "metadata": {
        "id": "BhKiEygmlj_i"
      }
    },
    {
      "cell_type": "markdown",
      "source": [
        "# New Section\n",
        "          Practical Questions\n"
      ],
      "metadata": {
        "id": "9N5XkqFFmhZA"
      }
    },
    {
      "cell_type": "code",
      "source": [
        "\n",
        "#1- This program prints Hello, World!\n",
        "\n",
        "print(\"hello world!\")\n",
        "\n"
      ],
      "metadata": {
        "colab": {
          "base_uri": "https://localhost:8080/"
        },
        "id": "4deM7LbuWEgK",
        "outputId": "a460e3d3-f081-4c25-ea6a-ea927f8a610e"
      },
      "execution_count": 16,
      "outputs": [
        {
          "output_type": "stream",
          "name": "stdout",
          "text": [
            "hello world!\n"
          ]
        }
      ]
    },
    {
      "cell_type": "code",
      "source": [
        "#2-Write a Python program that displays your name and age8\n",
        "name = input(\"Enter your name: \")\n",
        "age = input(\"Enter your age: \")\n",
        "print(\"My name is\", name)\n",
        "print(\"I am\", age, \"years old\")\n",
        "\n"
      ],
      "metadata": {
        "id": "uTGoE_8Nmplw"
      },
      "execution_count": null,
      "outputs": []
    },
    {
      "cell_type": "code",
      "source": [
        "#3- Write code to print all the pre-defined keywords in Python using the keyword library8\n",
        "# Import the keyword module\n",
        "import keyword\n",
        "\n",
        "# Print all Python keywords\n",
        "print(\"List of all Python keywords:\")\n",
        "print(keyword.kwlist)\n",
        "\n",
        "# Optional: print total number of keywords\n",
        "print(\"\\nTotal number of keywords:\", len(keyword.kwlist))\n"
      ],
      "metadata": {
        "id": "Ybv4VBjNiRVj"
      },
      "execution_count": null,
      "outputs": []
    },
    {
      "cell_type": "code",
      "source": [
        "#4-Write a program that checks if a given word is a Python keyword.\n",
        "import keyword\n",
        "\n",
        "word = input(\"Enter a word: \")   # Ask user to type a word\n",
        "\n",
        "if keyword.iskeyword(word):      # Check if it's a keyword\n",
        "    print(word, \"is a Python keyword\")\n",
        "else:\n",
        "    print(word, \"is NOT a Python keyword\")\n",
        "\n"
      ],
      "metadata": {
        "id": "sHBxy8QBoH5q"
      },
      "execution_count": null,
      "outputs": []
    },
    {
      "cell_type": "code",
      "source": [
        "#5-Create a list and tuple in Python, and demonstrate how attempting to change an element works differently for each.\n",
        "\n",
        "\n",
        "my_list = [1, 2, 3]\n",
        "print(\"Original list:\", my_list)\n",
        "\n",
        "my_list[0] = 100\n",
        "print(\"Modified list:\", my_list)\n",
        "\n",
        "my_tuple = (1, 2, 3)\n",
        "print(\"\\nOriginal tuple:\", my_tuple)\n",
        "\n",
        "my_tuple[0] = 100   # This will cause an error because tuple are immutable not chnaged\n"
      ],
      "metadata": {
        "id": "2Iqf3MDzovMM"
      },
      "execution_count": null,
      "outputs": []
    },
    {
      "cell_type": "code",
      "source": [
        "#6. Write a function to demonstrate the behavior of mutable and immutable arguments.\n",
        "def demonstrate_change(a_list, a_tuple):\n",
        "    a_list[0] = 100     # mutable changed\n",
        "    # a_tuple[0] = 100  # immutable cannot change\n",
        "\n",
        "my_list = [1, 2, 3]\n",
        "my_tuple = (1, 2, 3)\n",
        "\n",
        "demonstrate_change(my_list, my_tuple)\n",
        "print(my_list)\n",
        "print(my_tuple)\n",
        "\n"
      ],
      "metadata": {
        "id": "EaQ5gOEQwbGP"
      },
      "execution_count": null,
      "outputs": []
    },
    {
      "cell_type": "code",
      "source": [
        "#7. Write a program that performs basic arithmetic operations on two user-input numbers.\n",
        "\n",
        "a = 10\n",
        "b = 4\n",
        "\n",
        "c = a + b\n",
        "d = a - b\n",
        "e = a * b\n",
        "f = a / b\n",
        "\n",
        "print(\"Addition:\", c)\n",
        "print(\"Subtraction:\", d)\n",
        "print(\"Multiplication:\", e)\n",
        "print(\"Division:\", f)\n"
      ],
      "metadata": {
        "id": "1WHZbiL5ynLi"
      },
      "execution_count": null,
      "outputs": []
    },
    {
      "cell_type": "code",
      "source": [
        "#8 Write a program to demonstrate the use of logical operators.\n",
        "x = True\n",
        "y = False\n",
        "\n",
        "# Logical AND\n",
        "print(\"x and y:\", x and y)   # True only if both x and y are True\n",
        "\n",
        "# Logical OR\n",
        "print(\"x or y:\", x or y)     # True if either x or y is True\n",
        "\n",
        "# Logical NOT\n",
        "print(\"not x:\", not x)       # Inverts the value of x\n",
        "print(\"not y:\", not y)       # Inverts the value of y"
      ],
      "metadata": {
        "id": "sEt3flntz0cV"
      },
      "execution_count": null,
      "outputs": []
    },
    {
      "cell_type": "code",
      "source": [
        "#9 Write a Python program to convert user input from string to integer, float, and boolean types.\n",
        "\n",
        "# User input (always string)\n",
        "user_input = input(\"Enter a number: \")\n",
        "\n",
        "# Convert to integer, float, and boolean\n",
        "int_value = int(user_input)\n",
        "float_value = float(user_input)\n",
        "bool_value = bool(user_input)\n",
        "\n",
        "# Print results\n",
        "print(\"Integer:\", int_value)\n",
        "print(\"Float:\", float_value)\n",
        "print(\"Boolean:\", bool_value)\n"
      ],
      "metadata": {
        "id": "r2IhovYg0Msb"
      },
      "execution_count": null,
      "outputs": []
    },
    {
      "cell_type": "code",
      "source": [
        "#10 . Write code to demonstrate type casting with list elements.\n",
        "# List with mixed data types\n",
        "my_list = [\"4\", 1, 2.0, 'true']\n",
        "print(\"Original List:\", my_list)\n",
        "\n",
        "# Type casting examples\n",
        "a = int(my_list[0])    # \"4\" (string) → 4 (integer)\n",
        "b = str(my_list[1])    # 1 (integer) → \"1\" (string)\n",
        "c = int(my_list[2])    # 2.0 (float) → 2 (integer)\n",
        "\n",
        "# Printing the results\n",
        "print(\"String to Integer:\", a, type(a))\n",
        "print(\"Integer to String:\", b, type(b))\n",
        "print(\"Float to Integer:\", c, type(c))\n",
        "\n",
        "\n"
      ],
      "metadata": {
        "id": "kTOYty8r15cn"
      },
      "execution_count": null,
      "outputs": []
    },
    {
      "cell_type": "code",
      "source": [
        "# 11 Write a program that checks if a number is positive, negative, or zero.\n",
        "# Program to check if a number is positive, negative, or zero\n",
        "\n",
        "num = int(input(\"Enter a number: \"))\n",
        "\n",
        "if num > 0:\n",
        "    print(\"The number is Positive\")\n",
        "elif num < 0:\n",
        "    print(\"The number is Negative\")\n",
        "else:\n",
        "    print(\"The number is Zero\")\n",
        "\n"
      ],
      "metadata": {
        "id": "tBmalP8tGJhR"
      },
      "execution_count": null,
      "outputs": []
    },
    {
      "cell_type": "code",
      "source": [
        "# 12 Write a for loop to print numbers from 1 to 10.\n",
        "# Program to print numbers from 1 to 10\n",
        "\n",
        "for i in range(1, 11):   # range(1, 11) means 1 to 10\n",
        "    print(i)\n"
      ],
      "metadata": {
        "id": "hweQxyKZH-IT"
      },
      "execution_count": null,
      "outputs": []
    },
    {
      "cell_type": "code",
      "source": [
        "#13 Write a Python program to find the sum of all even numbers between 1 and 50.\n",
        "sum = 0\n",
        "for i in range(1, 51):\n",
        "    if i % 2 == 0:   # check if even\n",
        "        sum = sum + i\n",
        "\n",
        "print(\"Sum of even numbers between 1 and 50 is:\", sum)\n"
      ],
      "metadata": {
        "id": "nKaT6fZWIsyv"
      },
      "execution_count": null,
      "outputs": []
    },
    {
      "cell_type": "code",
      "source": [
        "# 14 Write a program to reverse a string using a while loop.\n",
        "s = \"Hello\"\n",
        "reversed_string = \"\"\n",
        "i = len(s) - 1\n",
        "\n",
        "while i >= 0:\n",
        "    reversed_string += s[i]\n",
        "    i -= 1\n",
        "\n",
        "print(reversed_string)\n",
        "\n"
      ],
      "metadata": {
        "id": "Nt1iAejTKYO9"
      },
      "execution_count": null,
      "outputs": []
    },
    {
      "cell_type": "code",
      "source": [
        "#15 Write a Python program to calculate the factorial of a number provided by the user using a while loop.\n",
        "num = int(input(\"Enter a number: \"))\n",
        "fact = 1\n",
        "\n",
        "i = num\n",
        "while i > 0:\n",
        "    fact *= i\n",
        "    i -= 1\n",
        "\n",
        "print(\"Factorial is:\", fact)\n"
      ],
      "metadata": {
        "id": "g3GGCF9MOGuV"
      },
      "execution_count": null,
      "outputs": []
    }
  ]
}